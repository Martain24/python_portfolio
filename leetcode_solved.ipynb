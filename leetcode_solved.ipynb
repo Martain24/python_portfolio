{
 "cells": [
  {
   "cell_type": "code",
   "execution_count": 44,
   "metadata": {},
   "outputs": [],
   "source": [
    "def length_of_last_word(s: str) -> int:\n",
    "    return len(s.strip().split(\" \")[-1])"
   ]
  },
  {
   "cell_type": "code",
   "execution_count": 45,
   "metadata": {},
   "outputs": [
    {
     "data": {
      "text/plain": [
       "'flrrpp'"
      ]
     },
     "execution_count": 45,
     "metadata": {},
     "output_type": "execute_result"
    }
   ],
   "source": [
    "from typing import List\n",
    "\n",
    "prueba = [\"flrrppower\",\"flrrpplow\",\"flrrppight\"]\n",
    "\n",
    "def longest_common_prefix(strs: List[str]) -> str:\n",
    "    \"\"\"\n",
    "    Encuentra el prefijo común más largo entre una lista de cadenas de caracteres.\n",
    "    \n",
    "    Parámetros:\n",
    "    strs (List[str]): Lista de cadenas de caracteres para buscar el prefijo común.\n",
    "\n",
    "    Retorna:\n",
    "    str: El prefijo común más largo entre todas las cadenas en 'strs'.\n",
    "         Si no existe un prefijo común, retorna una cadena vacía.\n",
    "    \"\"\"\n",
    "    # Inicializar la variable para almacenar el prefijo común\n",
    "    lcp = \"\"\n",
    "    # Índice que se utilizará para comparar cada carácter de las cadenas\n",
    "    index = 0\n",
    "    \n",
    "    # Bucle infinito, se romperá cuando no haya coincidencia de caracteres o se alcance el final de alguna cadena\n",
    "    while True:\n",
    "        try:\n",
    "            # Comprobar si el carácter en la posición actual es el mismo para todas las cadenas\n",
    "            if all([s[index] == strs[0][index] for s in strs]):\n",
    "                # Si todos coinciden, añadir el carácter actual al prefijo común\n",
    "                lcp += strs[0][index]\n",
    "                # Incrementar el índice para pasar al siguiente carácter\n",
    "                index += 1\n",
    "            else:\n",
    "                # Si algún carácter no coincide, romper el bucle\n",
    "                break\n",
    "        except IndexError:\n",
    "            # Capturar la excepción cuando se alcanza el final de alguna cadena\n",
    "            break\n",
    "    \n",
    "    return lcp\n",
    "\n",
    "\n",
    "longest_common_prefix(prueba)"
   ]
  },
  {
   "cell_type": "code",
   "execution_count": 46,
   "metadata": {},
   "outputs": [
    {
     "data": {
      "text/plain": [
       "2"
      ]
     },
     "execution_count": 46,
     "metadata": {},
     "output_type": "execute_result"
    }
   ],
   "source": [
    "def str_str(haystack: str, needle: str) -> int:\n",
    "    if needle not in haystack:\n",
    "        return -1 \n",
    "    for index, letter in enumerate(haystack):\n",
    "        if letter == needle[0]:\n",
    "            if haystack[index:(index + len(needle))] == needle:\n",
    "                return index\n",
    "\n",
    "str_str(haystack=\"hello\", needle=\"ll\")"
   ]
  },
  {
   "cell_type": "code",
   "execution_count": 47,
   "metadata": {},
   "outputs": [
    {
     "data": {
      "text/plain": [
       "True"
      ]
     },
     "execution_count": 47,
     "metadata": {},
     "output_type": "execute_result"
    }
   ],
   "source": [
    "from typing import List\n",
    "\n",
    "def can_jump(nums: List[int]) -> bool:\n",
    "    \"\"\"\n",
    "    Determina si es posible alcanzar el último índice de una lista de enteros, \n",
    "    donde cada elemento representa la cantidad máxima de pasos que se pueden \n",
    "    dar desde esa posición.\n",
    "\n",
    "    Parámetros:\n",
    "    nums (List[int]): Lista de enteros no negativos donde cada elemento indica\n",
    "                      el alcance máximo desde esa posición.\n",
    "\n",
    "    Retorna:\n",
    "    bool: `True` si es posible alcanzar el último índice, `False` en caso contrario.\n",
    "    \"\"\"\n",
    "    \n",
    "    # Si la lista tiene solo un elemento, ya estamos en el último índice.\n",
    "    if len(nums) == 1:\n",
    "        return True\n",
    "\n",
    "    # Inicializar el índice que queremos alcanzar, comenzando por el último índice.\n",
    "    index_to_reach = len(nums) - 1\n",
    "\n",
    "    while True:\n",
    "        # Indicador para verificar si podemos alcanzar el índice deseado en esta iteración.\n",
    "        succeeded = False\n",
    "\n",
    "        # Iterar sobre la lista en orden inverso\n",
    "        for index, num in enumerate(nums[::-1]):\n",
    "            # Convertir el índice en el índice original de la lista\n",
    "            real_index = len(nums) - 1 - index\n",
    "            \n",
    "            # Si no estamos ya en el índice deseado, intentamos alcanzarlo\n",
    "            if real_index != index_to_reach:\n",
    "                # Probar todos los saltos posibles desde la posición actual\n",
    "                for i in range(1, num + 1):\n",
    "                    # Si podemos alcanzar el índice deseado desde esta posición\n",
    "                    if real_index + i == index_to_reach:\n",
    "                        # Actualizar el índice que queremos alcanzar a la posición actual\n",
    "                        index_to_reach = real_index\n",
    "                        # Indicar que tuvimos éxito en esta iteración\n",
    "                        succeeded = True\n",
    "                        break\n",
    "            \n",
    "        # Si no hemos podido alcanzar el índice deseado, devolver False\n",
    "        if not succeeded:\n",
    "            return False\n",
    "        \n",
    "        # Si hemos alcanzado el primer índice, devolver True\n",
    "        if index_to_reach == 0:\n",
    "            return True\n",
    "\n",
    "can_jump([2,3,1,1,4])"
   ]
  },
  {
   "cell_type": "code",
   "execution_count": 49,
   "metadata": {},
   "outputs": [
    {
     "data": {
      "text/plain": [
       "'example good a'"
      ]
     },
     "execution_count": 49,
     "metadata": {},
     "output_type": "execute_result"
    }
   ],
   "source": [
    "def reverse_words(s: str) -> str:\n",
    "    s = s.strip()\n",
    "    list_words = s.split(\" \")\n",
    "    list_words = list_words[::-1]\n",
    "    return \" \".join([w for w in list_words if w != \"\"])\n",
    "\n",
    "reverse_words(\"   a     good   example\")"
   ]
  },
  {
   "cell_type": "code",
   "execution_count": 25,
   "metadata": {},
   "outputs": [
    {
     "data": {
      "text/plain": [
       "2"
      ]
     },
     "execution_count": 25,
     "metadata": {},
     "output_type": "execute_result"
    }
   ],
   "source": [
    "nums = [2,3,0,1,4]\n",
    "\n",
    "def jump(nums: List[int]) -> int:\n",
    "    if len(nums) <= 1:\n",
    "        return 0\n",
    "    indexes_can_reach = [0]\n",
    "    jumps = 0\n",
    "    while True:\n",
    "        new_indexes_can_reach = []\n",
    "        for index_can_reach in indexes_can_reach:\n",
    "            num = nums[index_can_reach]\n",
    "            for i in range(1, num + 1):\n",
    "                new_indexes_can_reach.append(index_can_reach + i)\n",
    "        jumps += 1\n",
    "        indexes_can_reach = list(set(new_indexes_can_reach))\n",
    "        if len(nums) - 1 in indexes_can_reach:\n",
    "            break \n",
    "    return jumps\n",
    "\n",
    "jump(nums)"
   ]
  },
  {
   "cell_type": "code",
   "execution_count": 54,
   "metadata": {},
   "outputs": [
    {
     "data": {
      "text/plain": [
       "688"
      ]
     },
     "execution_count": 54,
     "metadata": {},
     "output_type": "execute_result"
    }
   ],
   "source": [
    "import numpy as np\n",
    "\n",
    "citations = list(np.random.randint(0, 800, 5000))\n",
    "def hIndex(citations: List[int]) -> int:\n",
    "    num_citations = {}\n",
    "    for i in range(max(citations)+1):\n",
    "        num_citations[i] = sum(np.array(citations) >= i)\n",
    "\n",
    "    for i in num_citations.keys():\n",
    "        if num_citations[i] >= i:\n",
    "            possible_result = i\n",
    "    return possible_result\n",
    "\n",
    "hIndex(citations)"
   ]
  },
  {
   "cell_type": "code",
   "execution_count": 51,
   "metadata": {},
   "outputs": [
    {
     "data": {
      "text/plain": [
       "29"
      ]
     },
     "execution_count": 51,
     "metadata": {},
     "output_type": "execute_result"
    }
   ],
   "source": [
    "sum(np.random.randint(0, 800, 200) < 100)"
   ]
  }
 ],
 "metadata": {
  "kernelspec": {
   "display_name": "entorno_general",
   "language": "python",
   "name": "python3"
  },
  "language_info": {
   "codemirror_mode": {
    "name": "ipython",
    "version": 3
   },
   "file_extension": ".py",
   "mimetype": "text/x-python",
   "name": "python",
   "nbconvert_exporter": "python",
   "pygments_lexer": "ipython3",
   "version": "3.11.8"
  }
 },
 "nbformat": 4,
 "nbformat_minor": 2
}
